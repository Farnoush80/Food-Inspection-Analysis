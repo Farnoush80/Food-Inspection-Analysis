{
 "cells": [
  {
   "cell_type": "code",
   "execution_count": 1,
   "metadata": {},
   "outputs": [],
   "source": [
    "import pandas as pd\n",
    "import numpy as np\n",
    "import seaborn as sns;sns.set()\n",
    "from matplotlib import pyplot as plt\n",
    "%matplotlib inline\n",
    "from sklearn.preprocessing import OneHotEncoder\n",
    "\n"
   ]
  },
  {
   "cell_type": "code",
   "execution_count": 2,
   "metadata": {},
   "outputs": [],
   "source": [
    "inspections=pd.read_csv('https://query.data.world/s/st7gtmrhhxuv5s6g4ynh73uint54sa')"
   ]
  },
  {
   "cell_type": "code",
   "execution_count": 3,
   "metadata": {
    "scrolled": false
   },
   "outputs": [
    {
     "data": {
      "text/html": [
       "<div>\n",
       "<style scoped>\n",
       "    .dataframe tbody tr th:only-of-type {\n",
       "        vertical-align: middle;\n",
       "    }\n",
       "\n",
       "    .dataframe tbody tr th {\n",
       "        vertical-align: top;\n",
       "    }\n",
       "\n",
       "    .dataframe thead th {\n",
       "        text-align: right;\n",
       "    }\n",
       "</style>\n",
       "<table border=\"1\" class=\"dataframe\">\n",
       "  <thead>\n",
       "    <tr style=\"text-align: right;\">\n",
       "      <th></th>\n",
       "      <th>business_id</th>\n",
       "      <th>business_name</th>\n",
       "      <th>business_address</th>\n",
       "      <th>business_city</th>\n",
       "      <th>business_state</th>\n",
       "      <th>business_postal_code</th>\n",
       "      <th>business_phone_number</th>\n",
       "      <th>inspection_date</th>\n",
       "      <th>inspection_score</th>\n",
       "      <th>inspection_description</th>\n",
       "      <th>inspection_type</th>\n",
       "      <th>violation_description</th>\n",
       "      <th>violation_code</th>\n",
       "      <th>business_location</th>\n",
       "    </tr>\n",
       "  </thead>\n",
       "  <tbody>\n",
       "    <tr>\n",
       "      <td>0</td>\n",
       "      <td>FA0005362 (https://anchorageonline.envisioncon...</td>\n",
       "      <td>MCGINLEYS PUB</td>\n",
       "      <td>645 G ST</td>\n",
       "      <td>ANCHORAGE</td>\n",
       "      <td>AK</td>\n",
       "      <td>99501</td>\n",
       "      <td>9.072792e+09</td>\n",
       "      <td>03/07/2017</td>\n",
       "      <td>94.0</td>\n",
       "      <td>SCHEDULE REGULAR INSPECTION WITHIN 12 MONTHS</td>\n",
       "      <td>Regular</td>\n",
       "      <td>HANDWASHING FACILITIES SUPPLIED, ACCESSIBLE</td>\n",
       "      <td>0008</td>\n",
       "      <td>645 G ST\\nANCHORAGE, AK 99501\\n(61.2157799112,...</td>\n",
       "    </tr>\n",
       "    <tr>\n",
       "      <td>1</td>\n",
       "      <td>FA0000274 (https://anchorageonline.envisioncon...</td>\n",
       "      <td>VILLAGE INN #1</td>\n",
       "      <td>1130 E NORTHERN LIGHTS BLVD</td>\n",
       "      <td>ANCHORAGE</td>\n",
       "      <td>AK</td>\n",
       "      <td>995084219</td>\n",
       "      <td>9.072796e+09</td>\n",
       "      <td>10/21/2015</td>\n",
       "      <td>86.0</td>\n",
       "      <td>SCHEDULE REGULAR INSPECTION WITHIN 12 MONTHS</td>\n",
       "      <td>Regular</td>\n",
       "      <td>DEMONSTRATION OF KNOWLEDGE</td>\n",
       "      <td>0001</td>\n",
       "      <td>1130 E NORTHERN LIGHTS BLVD\\nANCHORAGE, AK 995...</td>\n",
       "    </tr>\n",
       "    <tr>\n",
       "      <td>2</td>\n",
       "      <td>FA0007874 (https://anchorageonline.envisioncon...</td>\n",
       "      <td>RONNIE SUSHI 2</td>\n",
       "      <td>924 MULDOON RD</td>\n",
       "      <td>ANCHORAGE</td>\n",
       "      <td>AK</td>\n",
       "      <td>99504</td>\n",
       "      <td>9.073380e+09</td>\n",
       "      <td>11/22/2016</td>\n",
       "      <td>80.0</td>\n",
       "      <td>ENFORCEMENT INSPECTION REQUIRED</td>\n",
       "      <td>Regular</td>\n",
       "      <td>THERMOMETERS PROVIDED AND ACCURATE</td>\n",
       "      <td>0034</td>\n",
       "      <td>924 MULDOON RD\\nANCHORAGE, AK 99504\\n(61.21387...</td>\n",
       "    </tr>\n",
       "    <tr>\n",
       "      <td>3</td>\n",
       "      <td>FA0001485 (https://anchorageonline.envisioncon...</td>\n",
       "      <td>FRED MEYER - RETAIL FISH</td>\n",
       "      <td>1000 E NORTHERN LIGHTS BLVD</td>\n",
       "      <td>ANCHORAGE</td>\n",
       "      <td>AK</td>\n",
       "      <td>99503</td>\n",
       "      <td>NaN</td>\n",
       "      <td>12/23/2003</td>\n",
       "      <td>96.0</td>\n",
       "      <td>NO ACTION</td>\n",
       "      <td>Regular</td>\n",
       "      <td>NaN</td>\n",
       "      <td>NaN</td>\n",
       "      <td>1000 E NORTHERN LIGHTS BLVD\\nANCHORAGE, AK 995...</td>\n",
       "    </tr>\n",
       "    <tr>\n",
       "      <td>4</td>\n",
       "      <td>FA0009047 (https://anchorageonline.envisioncon...</td>\n",
       "      <td>PHO GRILL</td>\n",
       "      <td>8809 JEWEL LAKE RD</td>\n",
       "      <td>ANCHORAGE</td>\n",
       "      <td>AK</td>\n",
       "      <td>99502</td>\n",
       "      <td>9.078682e+09</td>\n",
       "      <td>07/13/2017</td>\n",
       "      <td>83.0</td>\n",
       "      <td>ENFORCEMENT INSPECTION REQUIRED</td>\n",
       "      <td>Regular</td>\n",
       "      <td>BARE HAND CONTACT WITH READY TO EAT FOOD</td>\n",
       "      <td>0007</td>\n",
       "      <td>8809 JEWEL LAKE RD\\nANCHORAGE, AK 99502\\n(61.1...</td>\n",
       "    </tr>\n",
       "  </tbody>\n",
       "</table>\n",
       "</div>"
      ],
      "text/plain": [
       "                                         business_id  \\\n",
       "0  FA0005362 (https://anchorageonline.envisioncon...   \n",
       "1  FA0000274 (https://anchorageonline.envisioncon...   \n",
       "2  FA0007874 (https://anchorageonline.envisioncon...   \n",
       "3  FA0001485 (https://anchorageonline.envisioncon...   \n",
       "4  FA0009047 (https://anchorageonline.envisioncon...   \n",
       "\n",
       "              business_name             business_address business_city  \\\n",
       "0             MCGINLEYS PUB                     645 G ST     ANCHORAGE   \n",
       "1            VILLAGE INN #1  1130 E NORTHERN LIGHTS BLVD     ANCHORAGE   \n",
       "2            RONNIE SUSHI 2               924 MULDOON RD     ANCHORAGE   \n",
       "3  FRED MEYER - RETAIL FISH  1000 E NORTHERN LIGHTS BLVD     ANCHORAGE   \n",
       "4                 PHO GRILL           8809 JEWEL LAKE RD     ANCHORAGE   \n",
       "\n",
       "  business_state  business_postal_code  business_phone_number inspection_date  \\\n",
       "0             AK                 99501           9.072792e+09      03/07/2017   \n",
       "1             AK             995084219           9.072796e+09      10/21/2015   \n",
       "2             AK                 99504           9.073380e+09      11/22/2016   \n",
       "3             AK                 99503                    NaN      12/23/2003   \n",
       "4             AK                 99502           9.078682e+09      07/13/2017   \n",
       "\n",
       "   inspection_score                        inspection_description  \\\n",
       "0              94.0  SCHEDULE REGULAR INSPECTION WITHIN 12 MONTHS   \n",
       "1              86.0  SCHEDULE REGULAR INSPECTION WITHIN 12 MONTHS   \n",
       "2              80.0               ENFORCEMENT INSPECTION REQUIRED   \n",
       "3              96.0                                     NO ACTION   \n",
       "4              83.0               ENFORCEMENT INSPECTION REQUIRED   \n",
       "\n",
       "  inspection_type                        violation_description violation_code  \\\n",
       "0         Regular  HANDWASHING FACILITIES SUPPLIED, ACCESSIBLE           0008   \n",
       "1         Regular                   DEMONSTRATION OF KNOWLEDGE           0001   \n",
       "2         Regular           THERMOMETERS PROVIDED AND ACCURATE           0034   \n",
       "3         Regular                                          NaN            NaN   \n",
       "4         Regular     BARE HAND CONTACT WITH READY TO EAT FOOD           0007   \n",
       "\n",
       "                                   business_location  \n",
       "0  645 G ST\\nANCHORAGE, AK 99501\\n(61.2157799112,...  \n",
       "1  1130 E NORTHERN LIGHTS BLVD\\nANCHORAGE, AK 995...  \n",
       "2  924 MULDOON RD\\nANCHORAGE, AK 99504\\n(61.21387...  \n",
       "3  1000 E NORTHERN LIGHTS BLVD\\nANCHORAGE, AK 995...  \n",
       "4  8809 JEWEL LAKE RD\\nANCHORAGE, AK 99502\\n(61.1...  "
      ]
     },
     "execution_count": 3,
     "metadata": {},
     "output_type": "execute_result"
    }
   ],
   "source": [
    "inspections.head()\n",
    "\n"
   ]
  },
  {
   "cell_type": "code",
   "execution_count": 4,
   "metadata": {},
   "outputs": [
    {
     "data": {
      "text/html": [
       "<div>\n",
       "<style scoped>\n",
       "    .dataframe tbody tr th:only-of-type {\n",
       "        vertical-align: middle;\n",
       "    }\n",
       "\n",
       "    .dataframe tbody tr th {\n",
       "        vertical-align: top;\n",
       "    }\n",
       "\n",
       "    .dataframe thead th {\n",
       "        text-align: right;\n",
       "    }\n",
       "</style>\n",
       "<table border=\"1\" class=\"dataframe\">\n",
       "  <thead>\n",
       "    <tr style=\"text-align: right;\">\n",
       "      <th></th>\n",
       "      <th>business_id</th>\n",
       "      <th>business_name</th>\n",
       "      <th>business_address</th>\n",
       "      <th>business_city</th>\n",
       "      <th>business_state</th>\n",
       "      <th>business_postal_code</th>\n",
       "      <th>business_phone_number</th>\n",
       "      <th>inspection_date</th>\n",
       "      <th>inspection_score</th>\n",
       "      <th>inspection_description</th>\n",
       "      <th>inspection_type</th>\n",
       "      <th>violation_description</th>\n",
       "      <th>violation_code</th>\n",
       "      <th>business_location</th>\n",
       "    </tr>\n",
       "  </thead>\n",
       "  <tbody>\n",
       "    <tr>\n",
       "      <td>45001</td>\n",
       "      <td>FA0000261 (https://anchorageonline.envisioncon...</td>\n",
       "      <td>TWIN DRAGON</td>\n",
       "      <td>612 E 15TH AVE</td>\n",
       "      <td>ANCHORAGE</td>\n",
       "      <td>AK</td>\n",
       "      <td>995015307</td>\n",
       "      <td>9.072768e+09</td>\n",
       "      <td>07/19/2018</td>\n",
       "      <td>90.0</td>\n",
       "      <td>SCHEDULE REGULAR INSPECTION WITHIN 12 MONTHS</td>\n",
       "      <td>Regular</td>\n",
       "      <td>NONFOOD-CONTACT SURFACES CLEAN</td>\n",
       "      <td>0047</td>\n",
       "      <td>612 E 15TH AVE\\nANCHORAGE, AK 995015307\\n(61.2...</td>\n",
       "    </tr>\n",
       "    <tr>\n",
       "      <td>45002</td>\n",
       "      <td>FA0000261 (https://anchorageonline.envisioncon...</td>\n",
       "      <td>TWIN DRAGON</td>\n",
       "      <td>612 E 15TH AVE</td>\n",
       "      <td>ANCHORAGE</td>\n",
       "      <td>AK</td>\n",
       "      <td>995015307</td>\n",
       "      <td>9.072768e+09</td>\n",
       "      <td>07/19/2018</td>\n",
       "      <td>90.0</td>\n",
       "      <td>SCHEDULE REGULAR INSPECTION WITHIN 12 MONTHS</td>\n",
       "      <td>Regular</td>\n",
       "      <td>HANDWASHING FACILITIES SUPPLIED, ACCESSIBLE</td>\n",
       "      <td>0008</td>\n",
       "      <td>612 E 15TH AVE\\nANCHORAGE, AK 995015307\\n(61.2...</td>\n",
       "    </tr>\n",
       "    <tr>\n",
       "      <td>45003</td>\n",
       "      <td>FA0000261 (https://anchorageonline.envisioncon...</td>\n",
       "      <td>TWIN DRAGON</td>\n",
       "      <td>612 E 15TH AVE</td>\n",
       "      <td>ANCHORAGE</td>\n",
       "      <td>AK</td>\n",
       "      <td>995015307</td>\n",
       "      <td>9.072768e+09</td>\n",
       "      <td>07/19/2018</td>\n",
       "      <td>NaN</td>\n",
       "      <td>NO ACTION</td>\n",
       "      <td>Complaint</td>\n",
       "      <td>PROPER COOLING METHODS, ADEQUATE EQUIPMENT</td>\n",
       "      <td>0031</td>\n",
       "      <td>612 E 15TH AVE\\nANCHORAGE, AK 995015307\\n(61.2...</td>\n",
       "    </tr>\n",
       "    <tr>\n",
       "      <td>45004</td>\n",
       "      <td>FA0000261 (https://anchorageonline.envisioncon...</td>\n",
       "      <td>TWIN DRAGON</td>\n",
       "      <td>612 E 15TH AVE</td>\n",
       "      <td>ANCHORAGE</td>\n",
       "      <td>AK</td>\n",
       "      <td>995015307</td>\n",
       "      <td>9.072768e+09</td>\n",
       "      <td>07/19/2018</td>\n",
       "      <td>NaN</td>\n",
       "      <td>NO ACTION</td>\n",
       "      <td>Complaint</td>\n",
       "      <td>PROPER HOT HOLDING TEMPERATURES</td>\n",
       "      <td>0019</td>\n",
       "      <td>612 E 15TH AVE\\nANCHORAGE, AK 995015307\\n(61.2...</td>\n",
       "    </tr>\n",
       "    <tr>\n",
       "      <td>45005</td>\n",
       "      <td>FA0000261 (https://anchorageonline.envisioncon...</td>\n",
       "      <td>TWIN DRAGON</td>\n",
       "      <td>612 E 15TH AVE</td>\n",
       "      <td>ANCHORAGE</td>\n",
       "      <td>AK</td>\n",
       "      <td>995015307</td>\n",
       "      <td>9.072768e+09</td>\n",
       "      <td>07/19/2018</td>\n",
       "      <td>NaN</td>\n",
       "      <td>NO ACTION</td>\n",
       "      <td>Complaint</td>\n",
       "      <td>HANDWASHING FACILITIES SUPPLIED, ACCESSIBLE</td>\n",
       "      <td>0008</td>\n",
       "      <td>612 E 15TH AVE\\nANCHORAGE, AK 995015307\\n(61.2...</td>\n",
       "    </tr>\n",
       "  </tbody>\n",
       "</table>\n",
       "</div>"
      ],
      "text/plain": [
       "                                             business_id business_name  \\\n",
       "45001  FA0000261 (https://anchorageonline.envisioncon...   TWIN DRAGON   \n",
       "45002  FA0000261 (https://anchorageonline.envisioncon...   TWIN DRAGON   \n",
       "45003  FA0000261 (https://anchorageonline.envisioncon...   TWIN DRAGON   \n",
       "45004  FA0000261 (https://anchorageonline.envisioncon...   TWIN DRAGON   \n",
       "45005  FA0000261 (https://anchorageonline.envisioncon...   TWIN DRAGON   \n",
       "\n",
       "      business_address business_city business_state  business_postal_code  \\\n",
       "45001   612 E 15TH AVE     ANCHORAGE             AK             995015307   \n",
       "45002   612 E 15TH AVE     ANCHORAGE             AK             995015307   \n",
       "45003   612 E 15TH AVE     ANCHORAGE             AK             995015307   \n",
       "45004   612 E 15TH AVE     ANCHORAGE             AK             995015307   \n",
       "45005   612 E 15TH AVE     ANCHORAGE             AK             995015307   \n",
       "\n",
       "       business_phone_number inspection_date  inspection_score  \\\n",
       "45001           9.072768e+09      07/19/2018              90.0   \n",
       "45002           9.072768e+09      07/19/2018              90.0   \n",
       "45003           9.072768e+09      07/19/2018               NaN   \n",
       "45004           9.072768e+09      07/19/2018               NaN   \n",
       "45005           9.072768e+09      07/19/2018               NaN   \n",
       "\n",
       "                             inspection_description inspection_type  \\\n",
       "45001  SCHEDULE REGULAR INSPECTION WITHIN 12 MONTHS         Regular   \n",
       "45002  SCHEDULE REGULAR INSPECTION WITHIN 12 MONTHS         Regular   \n",
       "45003                                     NO ACTION       Complaint   \n",
       "45004                                     NO ACTION       Complaint   \n",
       "45005                                     NO ACTION       Complaint   \n",
       "\n",
       "                             violation_description violation_code  \\\n",
       "45001               NONFOOD-CONTACT SURFACES CLEAN           0047   \n",
       "45002  HANDWASHING FACILITIES SUPPLIED, ACCESSIBLE           0008   \n",
       "45003   PROPER COOLING METHODS, ADEQUATE EQUIPMENT           0031   \n",
       "45004              PROPER HOT HOLDING TEMPERATURES           0019   \n",
       "45005  HANDWASHING FACILITIES SUPPLIED, ACCESSIBLE           0008   \n",
       "\n",
       "                                       business_location  \n",
       "45001  612 E 15TH AVE\\nANCHORAGE, AK 995015307\\n(61.2...  \n",
       "45002  612 E 15TH AVE\\nANCHORAGE, AK 995015307\\n(61.2...  \n",
       "45003  612 E 15TH AVE\\nANCHORAGE, AK 995015307\\n(61.2...  \n",
       "45004  612 E 15TH AVE\\nANCHORAGE, AK 995015307\\n(61.2...  \n",
       "45005  612 E 15TH AVE\\nANCHORAGE, AK 995015307\\n(61.2...  "
      ]
     },
     "execution_count": 4,
     "metadata": {},
     "output_type": "execute_result"
    }
   ],
   "source": [
    "inspections.tail()"
   ]
  },
  {
   "cell_type": "code",
   "execution_count": 5,
   "metadata": {},
   "outputs": [
    {
     "data": {
      "text/plain": [
       "0          Regular\n",
       "1          Regular\n",
       "2          Regular\n",
       "3          Regular\n",
       "4          Regular\n",
       "           ...    \n",
       "45001      Regular\n",
       "45002      Regular\n",
       "45003    Complaint\n",
       "45004    Complaint\n",
       "45005    Complaint\n",
       "Name: inspection_type, Length: 45006, dtype: object"
      ]
     },
     "execution_count": 5,
     "metadata": {},
     "output_type": "execute_result"
    }
   ],
   "source": [
    "inspections.inspection_type"
   ]
  },
  {
   "cell_type": "code",
   "execution_count": 6,
   "metadata": {
    "scrolled": true
   },
   "outputs": [
    {
     "name": "stdout",
     "output_type": "stream",
     "text": [
      "<class 'pandas.core.frame.DataFrame'>\n",
      "RangeIndex: 45006 entries, 0 to 45005\n",
      "Data columns (total 14 columns):\n",
      "business_id               45006 non-null object\n",
      "business_name             45006 non-null object\n",
      "business_address          45006 non-null object\n",
      "business_city             45006 non-null object\n",
      "business_state            45006 non-null object\n",
      "business_postal_code      45006 non-null int64\n",
      "business_phone_number     31779 non-null float64\n",
      "inspection_date           45006 non-null object\n",
      "inspection_score          27178 non-null float64\n",
      "inspection_description    45006 non-null object\n",
      "inspection_type           45006 non-null object\n",
      "violation_description     30515 non-null object\n",
      "violation_code            30516 non-null object\n",
      "business_location         45006 non-null object\n",
      "dtypes: float64(2), int64(1), object(11)\n",
      "memory usage: 4.8+ MB\n"
     ]
    }
   ],
   "source": [
    "inspections.info()"
   ]
  },
  {
   "cell_type": "code",
   "execution_count": 7,
   "metadata": {},
   "outputs": [],
   "source": [
    "inspections.drop('business_id',1,inplace=True)"
   ]
  },
  {
   "cell_type": "code",
   "execution_count": 8,
   "metadata": {},
   "outputs": [],
   "source": [
    "inspections.drop('business_address',1,inplace=True)"
   ]
  },
  {
   "cell_type": "code",
   "execution_count": 9,
   "metadata": {},
   "outputs": [],
   "source": [
    "inspections.drop('business_postal_code',1,inplace=True)"
   ]
  },
  {
   "cell_type": "code",
   "execution_count": 10,
   "metadata": {},
   "outputs": [],
   "source": [
    "inspections.drop('business_name',1,inplace=True)"
   ]
  },
  {
   "cell_type": "code",
   "execution_count": 11,
   "metadata": {},
   "outputs": [],
   "source": [
    "inspections.drop('business_phone_number',1,inplace=True)"
   ]
  },
  {
   "cell_type": "code",
   "execution_count": 12,
   "metadata": {},
   "outputs": [],
   "source": [
    "inspections.drop('business_location',1,inplace=True)"
   ]
  },
  {
   "cell_type": "code",
   "execution_count": 13,
   "metadata": {},
   "outputs": [],
   "source": [
    "inspections.drop('business_city',1,inplace=True)"
   ]
  },
  {
   "cell_type": "code",
   "execution_count": 14,
   "metadata": {},
   "outputs": [],
   "source": [
    "inspections.drop('violation_code',1,inplace=True)"
   ]
  },
  {
   "cell_type": "code",
   "execution_count": 15,
   "metadata": {
    "scrolled": true
   },
   "outputs": [
    {
     "data": {
      "text/plain": [
       "business_state             object\n",
       "inspection_date            object\n",
       "inspection_score          float64\n",
       "inspection_description     object\n",
       "inspection_type            object\n",
       "violation_description      object\n",
       "dtype: object"
      ]
     },
     "execution_count": 15,
     "metadata": {},
     "output_type": "execute_result"
    }
   ],
   "source": [
    "inspections.dtypes\n"
   ]
  },
  {
   "cell_type": "code",
   "execution_count": 16,
   "metadata": {},
   "outputs": [
    {
     "data": {
      "text/plain": [
       "business_state                0\n",
       "inspection_date               0\n",
       "inspection_score          17828\n",
       "inspection_description        0\n",
       "inspection_type               0\n",
       "violation_description     14491\n",
       "dtype: int64"
      ]
     },
     "execution_count": 16,
     "metadata": {},
     "output_type": "execute_result"
    }
   ],
   "source": [
    "inspections.isnull().sum()"
   ]
  },
  {
   "cell_type": "code",
   "execution_count": 17,
   "metadata": {},
   "outputs": [],
   "source": [
    "inspections=inspections.replace('',np.nan,regex=True)"
   ]
  },
  {
   "cell_type": "code",
   "execution_count": 18,
   "metadata": {},
   "outputs": [],
   "source": [
    "inspections=inspections.dropna(how='any',axis=0)"
   ]
  },
  {
   "cell_type": "code",
   "execution_count": 19,
   "metadata": {},
   "outputs": [
    {
     "data": {
      "text/plain": [
       "<bound method Series.reset_index of business_state            0\n",
       "inspection_date           0\n",
       "inspection_score          0\n",
       "inspection_description    0\n",
       "inspection_type           0\n",
       "violation_description     0\n",
       "dtype: int64>"
      ]
     },
     "execution_count": 19,
     "metadata": {},
     "output_type": "execute_result"
    }
   ],
   "source": [
    "inspections.isnull().sum().reset_index"
   ]
  },
  {
   "cell_type": "code",
   "execution_count": 20,
   "metadata": {},
   "outputs": [
    {
     "data": {
      "text/html": [
       "<div>\n",
       "<style scoped>\n",
       "    .dataframe tbody tr th:only-of-type {\n",
       "        vertical-align: middle;\n",
       "    }\n",
       "\n",
       "    .dataframe tbody tr th {\n",
       "        vertical-align: top;\n",
       "    }\n",
       "\n",
       "    .dataframe thead th {\n",
       "        text-align: right;\n",
       "    }\n",
       "</style>\n",
       "<table border=\"1\" class=\"dataframe\">\n",
       "  <thead>\n",
       "    <tr style=\"text-align: right;\">\n",
       "      <th></th>\n",
       "      <th>inspection_score</th>\n",
       "    </tr>\n",
       "  </thead>\n",
       "  <tbody>\n",
       "    <tr>\n",
       "      <td>count</td>\n",
       "      <td>18702.000000</td>\n",
       "    </tr>\n",
       "    <tr>\n",
       "      <td>mean</td>\n",
       "      <td>91.400011</td>\n",
       "    </tr>\n",
       "    <tr>\n",
       "      <td>std</td>\n",
       "      <td>5.982285</td>\n",
       "    </tr>\n",
       "    <tr>\n",
       "      <td>min</td>\n",
       "      <td>66.000000</td>\n",
       "    </tr>\n",
       "    <tr>\n",
       "      <td>25%</td>\n",
       "      <td>88.000000</td>\n",
       "    </tr>\n",
       "    <tr>\n",
       "      <td>50%</td>\n",
       "      <td>92.000000</td>\n",
       "    </tr>\n",
       "    <tr>\n",
       "      <td>75%</td>\n",
       "      <td>96.000000</td>\n",
       "    </tr>\n",
       "    <tr>\n",
       "      <td>max</td>\n",
       "      <td>100.000000</td>\n",
       "    </tr>\n",
       "  </tbody>\n",
       "</table>\n",
       "</div>"
      ],
      "text/plain": [
       "       inspection_score\n",
       "count      18702.000000\n",
       "mean          91.400011\n",
       "std            5.982285\n",
       "min           66.000000\n",
       "25%           88.000000\n",
       "50%           92.000000\n",
       "75%           96.000000\n",
       "max          100.000000"
      ]
     },
     "execution_count": 20,
     "metadata": {},
     "output_type": "execute_result"
    }
   ],
   "source": [
    "inspections.describe()"
   ]
  },
  {
   "cell_type": "markdown",
   "metadata": {},
   "source": [
    "Originally all inspection has been performed as regular inspections. However, many places are required to conduct reinspection to eliminate issues and a few of them directly require enforcement based on how problems are critical and serious."
   ]
  },
  {
   "cell_type": "code",
   "execution_count": 21,
   "metadata": {},
   "outputs": [
    {
     "data": {
      "text/plain": [
       "Regular         0.966367\n",
       "Reinspection    0.024169\n",
       "Enforcement     0.009464\n",
       "Name: inspection_type, dtype: float64"
      ]
     },
     "execution_count": 21,
     "metadata": {},
     "output_type": "execute_result"
    }
   ],
   "source": [
    "\n",
    "inspections.inspection_type.value_counts(normalize=True)"
   ]
  },
  {
   "cell_type": "code",
   "execution_count": 22,
   "metadata": {},
   "outputs": [
    {
     "data": {
      "text/plain": [
       "<matplotlib.axes._subplots.AxesSubplot at 0x208ebf57408>"
      ]
     },
     "execution_count": 22,
     "metadata": {},
     "output_type": "execute_result"
    },
    {
     "data": {
      "image/png": "[encoded data removed]",
      "text/plain": [
       "<Figure size 504x432 with 1 Axes>"
      ]
     },
     "metadata": {
      "needs_background": "light"
     },
     "output_type": "display_data"
    }
   ],
   "source": [
    "\n",
    "inspections.inspection_type.value_counts().plot(kind='bar',figsize=(7,6))"
   ]
  },
  {
   "cell_type": "markdown",
   "metadata": {},
   "source": [
    " Normal Inspections"
   ]
  },
  {
   "cell_type": "code",
   "execution_count": 23,
   "metadata": {},
   "outputs": [],
   "source": [
    "\n",
    "inspection1=inspections[inspections['inspection_description']=='NO ACTION']"
   ]
  },
  {
   "cell_type": "code",
   "execution_count": 24,
   "metadata": {},
   "outputs": [
    {
     "data": {
      "text/html": [
       "<div>\n",
       "<style scoped>\n",
       "    .dataframe tbody tr th:only-of-type {\n",
       "        vertical-align: middle;\n",
       "    }\n",
       "\n",
       "    .dataframe tbody tr th {\n",
       "        vertical-align: top;\n",
       "    }\n",
       "\n",
       "    .dataframe thead th {\n",
       "        text-align: right;\n",
       "    }\n",
       "</style>\n",
       "<table border=\"1\" class=\"dataframe\">\n",
       "  <thead>\n",
       "    <tr style=\"text-align: right;\">\n",
       "      <th></th>\n",
       "      <th>business_state</th>\n",
       "      <th>inspection_date</th>\n",
       "      <th>inspection_score</th>\n",
       "      <th>inspection_description</th>\n",
       "      <th>inspection_type</th>\n",
       "      <th>violation_description</th>\n",
       "    </tr>\n",
       "  </thead>\n",
       "  <tbody>\n",
       "    <tr>\n",
       "      <td>5</td>\n",
       "      <td>AK</td>\n",
       "      <td>09/10/2008</td>\n",
       "      <td>95.0</td>\n",
       "      <td>NO ACTION</td>\n",
       "      <td>Regular</td>\n",
       "      <td>12  HANDS CLEAN, GOOD HYGIENE, CERTIFICATION</td>\n",
       "    </tr>\n",
       "    <tr>\n",
       "      <td>13</td>\n",
       "      <td>AK</td>\n",
       "      <td>06/21/2007</td>\n",
       "      <td>92.0</td>\n",
       "      <td>NO ACTION</td>\n",
       "      <td>Regular</td>\n",
       "      <td>10  IN-USE FOOD AND ICE UTENSILS PROPERLY STORED</td>\n",
       "    </tr>\n",
       "    <tr>\n",
       "      <td>14</td>\n",
       "      <td>AK</td>\n",
       "      <td>09/27/2005</td>\n",
       "      <td>91.0</td>\n",
       "      <td>NO ACTION</td>\n",
       "      <td>Regular</td>\n",
       "      <td>08  FOOD PROTECTED FROM CROSS CONTAMINATION</td>\n",
       "    </tr>\n",
       "    <tr>\n",
       "      <td>27</td>\n",
       "      <td>AK</td>\n",
       "      <td>09/05/2006</td>\n",
       "      <td>91.0</td>\n",
       "      <td>NO ACTION</td>\n",
       "      <td>Regular</td>\n",
       "      <td>20  PROPER SANITIZATION, TEMPERATURE, CHEMICALS</td>\n",
       "    </tr>\n",
       "    <tr>\n",
       "      <td>28</td>\n",
       "      <td>AK</td>\n",
       "      <td>09/03/2009</td>\n",
       "      <td>88.0</td>\n",
       "      <td>NO ACTION</td>\n",
       "      <td>Regular</td>\n",
       "      <td>17  ACCURATE THERMOMETERS AND CHEMICAL TEST KITS</td>\n",
       "    </tr>\n",
       "  </tbody>\n",
       "</table>\n",
       "</div>"
      ],
      "text/plain": [
       "   business_state inspection_date  inspection_score inspection_description  \\\n",
       "5              AK      09/10/2008              95.0              NO ACTION   \n",
       "13             AK      06/21/2007              92.0              NO ACTION   \n",
       "14             AK      09/27/2005              91.0              NO ACTION   \n",
       "27             AK      09/05/2006              91.0              NO ACTION   \n",
       "28             AK      09/03/2009              88.0              NO ACTION   \n",
       "\n",
       "   inspection_type                             violation_description  \n",
       "5          Regular      12  HANDS CLEAN, GOOD HYGIENE, CERTIFICATION  \n",
       "13         Regular  10  IN-USE FOOD AND ICE UTENSILS PROPERLY STORED  \n",
       "14         Regular       08  FOOD PROTECTED FROM CROSS CONTAMINATION  \n",
       "27         Regular   20  PROPER SANITIZATION, TEMPERATURE, CHEMICALS  \n",
       "28         Regular  17  ACCURATE THERMOMETERS AND CHEMICAL TEST KITS  "
      ]
     },
     "execution_count": 24,
     "metadata": {},
     "output_type": "execute_result"
    }
   ],
   "source": [
    "inspection1.head()"
   ]
  },
  {
   "cell_type": "code",
   "execution_count": 25,
   "metadata": {},
   "outputs": [
    {
     "data": {
      "text/html": [
       "<div>\n",
       "<style scoped>\n",
       "    .dataframe tbody tr th:only-of-type {\n",
       "        vertical-align: middle;\n",
       "    }\n",
       "\n",
       "    .dataframe tbody tr th {\n",
       "        vertical-align: top;\n",
       "    }\n",
       "\n",
       "    .dataframe thead th {\n",
       "        text-align: right;\n",
       "    }\n",
       "</style>\n",
       "<table border=\"1\" class=\"dataframe\">\n",
       "  <thead>\n",
       "    <tr style=\"text-align: right;\">\n",
       "      <th></th>\n",
       "      <th>inspection_score</th>\n",
       "    </tr>\n",
       "  </thead>\n",
       "  <tbody>\n",
       "    <tr>\n",
       "      <td>count</td>\n",
       "      <td>8581.000000</td>\n",
       "    </tr>\n",
       "    <tr>\n",
       "      <td>mean</td>\n",
       "      <td>92.414870</td>\n",
       "    </tr>\n",
       "    <tr>\n",
       "      <td>std</td>\n",
       "      <td>5.061131</td>\n",
       "    </tr>\n",
       "    <tr>\n",
       "      <td>min</td>\n",
       "      <td>70.000000</td>\n",
       "    </tr>\n",
       "    <tr>\n",
       "      <td>25%</td>\n",
       "      <td>89.000000</td>\n",
       "    </tr>\n",
       "    <tr>\n",
       "      <td>50%</td>\n",
       "      <td>93.000000</td>\n",
       "    </tr>\n",
       "    <tr>\n",
       "      <td>75%</td>\n",
       "      <td>96.000000</td>\n",
       "    </tr>\n",
       "    <tr>\n",
       "      <td>max</td>\n",
       "      <td>100.000000</td>\n",
       "    </tr>\n",
       "  </tbody>\n",
       "</table>\n",
       "</div>"
      ],
      "text/plain": [
       "       inspection_score\n",
       "count       8581.000000\n",
       "mean          92.414870\n",
       "std            5.061131\n",
       "min           70.000000\n",
       "25%           89.000000\n",
       "50%           93.000000\n",
       "75%           96.000000\n",
       "max          100.000000"
      ]
     },
     "execution_count": 25,
     "metadata": {},
     "output_type": "execute_result"
    }
   ],
   "source": [
    "inspection1.describe()"
   ]
  },
  {
   "cell_type": "markdown",
   "metadata": {},
   "source": [
    "It is clear that the most important five codes which had been considered by officers resulting pass inspections safely."
   ]
  },
  {
   "cell_type": "code",
   "execution_count": 26,
   "metadata": {},
   "outputs": [
    {
     "data": {
      "text/plain": [
       "03  FOOD TEMPERATURE MEETS REQUIREMENTS            0.099755\n",
       "12  HANDS CLEAN, GOOD HYGIENE, CERTIFICATION       0.074350\n",
       "20  PROPER SANITIZATION, TEMPERATURE, CHEMICALS    0.067824\n",
       "08  FOOD PROTECTED FROM CROSS CONTAMINATION        0.065727\n",
       "22  FOOD CONTACT SURFACES OF EQUIPMENT CLEAN       0.058734\n",
       "                                                     ...   \n",
       "GLOVES USED PROPERLY                               0.000117\n",
       "FOOD TEMPERATURE                                   0.000117\n",
       "TB CLEARANCES                                      0.000117\n",
       "WORKING GAUGES AND CHEMICAL TEST KITS              0.000117\n",
       "HANDWASHING SINK                                   0.000117\n",
       "Name: violation_description, Length: 111, dtype: float64"
      ]
     },
     "execution_count": 26,
     "metadata": {},
     "output_type": "execute_result"
    }
   ],
   "source": [
    "inspection1.violation_description.value_counts(normalize=True)"
   ]
  },
  {
   "cell_type": "code",
   "execution_count": 27,
   "metadata": {},
   "outputs": [
    {
     "data": {
      "text/plain": [
       "03  FOOD TEMPERATURE MEETS REQUIREMENTS            0.120799\n",
       "12  HANDS CLEAN, GOOD HYGIENE, CERTIFICATION       0.096201\n",
       "20  PROPER SANITIZATION, TEMPERATURE, CHEMICALS    0.076717\n",
       "08  FOOD PROTECTED FROM CROSS CONTAMINATION        0.070872\n",
       "22  FOOD CONTACT SURFACES OF EQUIPMENT CLEAN       0.060399\n",
       "                                                     ...   \n",
       "35  INSECT AND RODENT CONTROL                      0.000244\n",
       "20  SANITIZATION, TEMPERATURE CHEMICALS            0.000244\n",
       "FOOD PROTECTION                                    0.000244\n",
       "43  LIVING/SLEEPING QUARTERS & LAUNDRY SEPARATE    0.000244\n",
       "BARE HAND CONTACT WITH READY TO EAT FOOD           0.000244\n",
       "Name: violation_description, Length: 80, dtype: float64"
      ]
     },
     "execution_count": 27,
     "metadata": {},
     "output_type": "execute_result"
    }
   ],
   "source": [
    "inspection1[inspection1['inspection_score']<92.41].violation_description.value_counts(normalize=True)"
   ]
  },
  {
   "cell_type": "markdown",
   "metadata": {},
   "source": [
    "Second time inspections"
   ]
  },
  {
   "cell_type": "code",
   "execution_count": 28,
   "metadata": {},
   "outputs": [],
   "source": [
    "inspection2=inspections[inspections.inspection_type.str.contains('Reinspection')]"
   ]
  },
  {
   "cell_type": "code",
   "execution_count": 29,
   "metadata": {
    "scrolled": true
   },
   "outputs": [
    {
     "data": {
      "text/html": [
       "<div>\n",
       "<style scoped>\n",
       "    .dataframe tbody tr th:only-of-type {\n",
       "        vertical-align: middle;\n",
       "    }\n",
       "\n",
       "    .dataframe tbody tr th {\n",
       "        vertical-align: top;\n",
       "    }\n",
       "\n",
       "    .dataframe thead th {\n",
       "        text-align: right;\n",
       "    }\n",
       "</style>\n",
       "<table border=\"1\" class=\"dataframe\">\n",
       "  <thead>\n",
       "    <tr style=\"text-align: right;\">\n",
       "      <th></th>\n",
       "      <th>business_state</th>\n",
       "      <th>inspection_date</th>\n",
       "      <th>inspection_score</th>\n",
       "      <th>inspection_description</th>\n",
       "      <th>inspection_type</th>\n",
       "      <th>violation_description</th>\n",
       "    </tr>\n",
       "  </thead>\n",
       "  <tbody>\n",
       "    <tr>\n",
       "      <td>145</td>\n",
       "      <td>AK</td>\n",
       "      <td>02/21/2007</td>\n",
       "      <td>86.0</td>\n",
       "      <td>NO ACTION</td>\n",
       "      <td>Reinspection</td>\n",
       "      <td>10  IN-USE FOOD AND ICE UTENSILS PROPERLY STORED</td>\n",
       "    </tr>\n",
       "    <tr>\n",
       "      <td>318</td>\n",
       "      <td>AK</td>\n",
       "      <td>02/22/2007</td>\n",
       "      <td>84.0</td>\n",
       "      <td>REINSPECTION REQUIRED</td>\n",
       "      <td>Reinspection</td>\n",
       "      <td>17  ACCURATE THERMOMETERS AND CHEMICAL TEST KITS</td>\n",
       "    </tr>\n",
       "    <tr>\n",
       "      <td>352</td>\n",
       "      <td>AK</td>\n",
       "      <td>06/07/2004</td>\n",
       "      <td>90.0</td>\n",
       "      <td>REINSPECTION REQUIRED</td>\n",
       "      <td>Reinspection</td>\n",
       "      <td>37   WALLS &amp; CEILINGS CLEAN AND IN GOOD REPAIR</td>\n",
       "    </tr>\n",
       "    <tr>\n",
       "      <td>355</td>\n",
       "      <td>AK</td>\n",
       "      <td>03/23/2009</td>\n",
       "      <td>94.0</td>\n",
       "      <td>NO ACTION</td>\n",
       "      <td>Reinspection</td>\n",
       "      <td>16  PROPER PROCEDURE/ MAINTENANCE OF DISHWASHING</td>\n",
       "    </tr>\n",
       "    <tr>\n",
       "      <td>779</td>\n",
       "      <td>AK</td>\n",
       "      <td>09/12/2017</td>\n",
       "      <td>99.0</td>\n",
       "      <td>SCHEDULE REGULAR INSPECTION WITHIN 12 MONTHS</td>\n",
       "      <td>Reinspection</td>\n",
       "      <td>PHYSICAL FACILITIES INSTALLED, MAINTAINED, CLEAN</td>\n",
       "    </tr>\n",
       "    <tr>\n",
       "      <td>...</td>\n",
       "      <td>...</td>\n",
       "      <td>...</td>\n",
       "      <td>...</td>\n",
       "      <td>...</td>\n",
       "      <td>...</td>\n",
       "      <td>...</td>\n",
       "    </tr>\n",
       "    <tr>\n",
       "      <td>44708</td>\n",
       "      <td>AK</td>\n",
       "      <td>12/13/2006</td>\n",
       "      <td>86.0</td>\n",
       "      <td>REINSPECTION REQUIRED</td>\n",
       "      <td>Reinspection</td>\n",
       "      <td>03  FOOD TEMPERATURE MEETS REQUIREMENTS</td>\n",
       "    </tr>\n",
       "    <tr>\n",
       "      <td>44867</td>\n",
       "      <td>AK</td>\n",
       "      <td>06/29/2018</td>\n",
       "      <td>98.0</td>\n",
       "      <td>SCHEDULE REGULAR INSPECTION WITHIN 12 MONTHS</td>\n",
       "      <td>Reinspection</td>\n",
       "      <td>ADEQUATE VENTILATION, LIGHTING, DESIGNATED AREAS</td>\n",
       "    </tr>\n",
       "    <tr>\n",
       "      <td>44870</td>\n",
       "      <td>AK</td>\n",
       "      <td>06/29/2018</td>\n",
       "      <td>98.0</td>\n",
       "      <td>SCHEDULE REGULAR INSPECTION WITHIN 12 MONTHS</td>\n",
       "      <td>Reinspection</td>\n",
       "      <td>INSECTS, RODENTS, ANIMALS NOT PRESENT</td>\n",
       "    </tr>\n",
       "    <tr>\n",
       "      <td>44872</td>\n",
       "      <td>AK</td>\n",
       "      <td>06/26/2018</td>\n",
       "      <td>97.0</td>\n",
       "      <td>SCHEDULE REGULAR INSPECTION WITHIN 12 MONTHS</td>\n",
       "      <td>Reinspection</td>\n",
       "      <td>PROPER COLD HOLDING TEMPERATURES</td>\n",
       "    </tr>\n",
       "    <tr>\n",
       "      <td>44873</td>\n",
       "      <td>AK</td>\n",
       "      <td>06/26/2018</td>\n",
       "      <td>97.0</td>\n",
       "      <td>SCHEDULE REGULAR INSPECTION WITHIN 12 MONTHS</td>\n",
       "      <td>Reinspection</td>\n",
       "      <td>ADEQUATE VENTILATION, LIGHTING, DESIGNATED AREAS</td>\n",
       "    </tr>\n",
       "  </tbody>\n",
       "</table>\n",
       "<p>452 rows × 6 columns</p>\n",
       "</div>"
      ],
      "text/plain": [
       "      business_state inspection_date  inspection_score  \\\n",
       "145               AK      02/21/2007              86.0   \n",
       "318               AK      02/22/2007              84.0   \n",
       "352               AK      06/07/2004              90.0   \n",
       "355               AK      03/23/2009              94.0   \n",
       "779               AK      09/12/2017              99.0   \n",
       "...              ...             ...               ...   \n",
       "44708             AK      12/13/2006              86.0   \n",
       "44867             AK      06/29/2018              98.0   \n",
       "44870             AK      06/29/2018              98.0   \n",
       "44872             AK      06/26/2018              97.0   \n",
       "44873             AK      06/26/2018              97.0   \n",
       "\n",
       "                             inspection_description inspection_type  \\\n",
       "145                                       NO ACTION    Reinspection   \n",
       "318                           REINSPECTION REQUIRED    Reinspection   \n",
       "352                           REINSPECTION REQUIRED    Reinspection   \n",
       "355                                       NO ACTION    Reinspection   \n",
       "779    SCHEDULE REGULAR INSPECTION WITHIN 12 MONTHS    Reinspection   \n",
       "...                                             ...             ...   \n",
       "44708                         REINSPECTION REQUIRED    Reinspection   \n",
       "44867  SCHEDULE REGULAR INSPECTION WITHIN 12 MONTHS    Reinspection   \n",
       "44870  SCHEDULE REGULAR INSPECTION WITHIN 12 MONTHS    Reinspection   \n",
       "44872  SCHEDULE REGULAR INSPECTION WITHIN 12 MONTHS    Reinspection   \n",
       "44873  SCHEDULE REGULAR INSPECTION WITHIN 12 MONTHS    Reinspection   \n",
       "\n",
       "                                  violation_description  \n",
       "145    10  IN-USE FOOD AND ICE UTENSILS PROPERLY STORED  \n",
       "318    17  ACCURATE THERMOMETERS AND CHEMICAL TEST KITS  \n",
       "352      37   WALLS & CEILINGS CLEAN AND IN GOOD REPAIR  \n",
       "355    16  PROPER PROCEDURE/ MAINTENANCE OF DISHWASHING  \n",
       "779    PHYSICAL FACILITIES INSTALLED, MAINTAINED, CLEAN  \n",
       "...                                                 ...  \n",
       "44708           03  FOOD TEMPERATURE MEETS REQUIREMENTS  \n",
       "44867  ADEQUATE VENTILATION, LIGHTING, DESIGNATED AREAS  \n",
       "44870             INSECTS, RODENTS, ANIMALS NOT PRESENT  \n",
       "44872                  PROPER COLD HOLDING TEMPERATURES  \n",
       "44873  ADEQUATE VENTILATION, LIGHTING, DESIGNATED AREAS  \n",
       "\n",
       "[452 rows x 6 columns]"
      ]
     },
     "execution_count": 29,
     "metadata": {},
     "output_type": "execute_result"
    }
   ],
   "source": [
    "inspection2"
   ]
  },
  {
   "cell_type": "code",
   "execution_count": 30,
   "metadata": {},
   "outputs": [
    {
     "data": {
      "text/html": [
       "<div>\n",
       "<style scoped>\n",
       "    .dataframe tbody tr th:only-of-type {\n",
       "        vertical-align: middle;\n",
       "    }\n",
       "\n",
       "    .dataframe tbody tr th {\n",
       "        vertical-align: top;\n",
       "    }\n",
       "\n",
       "    .dataframe thead th {\n",
       "        text-align: right;\n",
       "    }\n",
       "</style>\n",
       "<table border=\"1\" class=\"dataframe\">\n",
       "  <thead>\n",
       "    <tr style=\"text-align: right;\">\n",
       "      <th></th>\n",
       "      <th>inspection_score</th>\n",
       "    </tr>\n",
       "  </thead>\n",
       "  <tbody>\n",
       "    <tr>\n",
       "      <td>count</td>\n",
       "      <td>452.000000</td>\n",
       "    </tr>\n",
       "    <tr>\n",
       "      <td>mean</td>\n",
       "      <td>88.404867</td>\n",
       "    </tr>\n",
       "    <tr>\n",
       "      <td>std</td>\n",
       "      <td>7.167448</td>\n",
       "    </tr>\n",
       "    <tr>\n",
       "      <td>min</td>\n",
       "      <td>73.000000</td>\n",
       "    </tr>\n",
       "    <tr>\n",
       "      <td>25%</td>\n",
       "      <td>84.000000</td>\n",
       "    </tr>\n",
       "    <tr>\n",
       "      <td>50%</td>\n",
       "      <td>88.000000</td>\n",
       "    </tr>\n",
       "    <tr>\n",
       "      <td>75%</td>\n",
       "      <td>94.000000</td>\n",
       "    </tr>\n",
       "    <tr>\n",
       "      <td>max</td>\n",
       "      <td>100.000000</td>\n",
       "    </tr>\n",
       "  </tbody>\n",
       "</table>\n",
       "</div>"
      ],
      "text/plain": [
       "       inspection_score\n",
       "count        452.000000\n",
       "mean          88.404867\n",
       "std            7.167448\n",
       "min           73.000000\n",
       "25%           84.000000\n",
       "50%           88.000000\n",
       "75%           94.000000\n",
       "max          100.000000"
      ]
     },
     "execution_count": 30,
     "metadata": {},
     "output_type": "execute_result"
    }
   ],
   "source": [
    "inspection2.describe()"
   ]
  },
  {
   "cell_type": "markdown",
   "metadata": {},
   "source": [
    "Only about 40% of reinspection has been resulted no action. Regarding of lose aversion theory, failing inspections for second time must be so dreadful for them and usually avoid to occur it. It is necessary to compare the previous violation description history and new one to make sure no decision bias is occurred accidently."
   ]
  },
  {
   "cell_type": "code",
   "execution_count": 31,
   "metadata": {},
   "outputs": [
    {
     "data": {
      "text/html": [
       "<div>\n",
       "<style scoped>\n",
       "    .dataframe tbody tr th:only-of-type {\n",
       "        vertical-align: middle;\n",
       "    }\n",
       "\n",
       "    .dataframe tbody tr th {\n",
       "        vertical-align: top;\n",
       "    }\n",
       "\n",
       "    .dataframe thead th {\n",
       "        text-align: right;\n",
       "    }\n",
       "</style>\n",
       "<table border=\"1\" class=\"dataframe\">\n",
       "  <thead>\n",
       "    <tr style=\"text-align: right;\">\n",
       "      <th></th>\n",
       "      <th>business_state</th>\n",
       "      <th>inspection_date</th>\n",
       "      <th>inspection_score</th>\n",
       "      <th>inspection_description</th>\n",
       "      <th>inspection_type</th>\n",
       "      <th>violation_description</th>\n",
       "    </tr>\n",
       "  </thead>\n",
       "  <tbody>\n",
       "    <tr>\n",
       "      <td>145</td>\n",
       "      <td>AK</td>\n",
       "      <td>02/21/2007</td>\n",
       "      <td>86.0</td>\n",
       "      <td>NO ACTION</td>\n",
       "      <td>Reinspection</td>\n",
       "      <td>10  IN-USE FOOD AND ICE UTENSILS PROPERLY STORED</td>\n",
       "    </tr>\n",
       "    <tr>\n",
       "      <td>355</td>\n",
       "      <td>AK</td>\n",
       "      <td>03/23/2009</td>\n",
       "      <td>94.0</td>\n",
       "      <td>NO ACTION</td>\n",
       "      <td>Reinspection</td>\n",
       "      <td>16  PROPER PROCEDURE/ MAINTENANCE OF DISHWASHING</td>\n",
       "    </tr>\n",
       "    <tr>\n",
       "      <td>918</td>\n",
       "      <td>AK</td>\n",
       "      <td>06/24/2009</td>\n",
       "      <td>88.0</td>\n",
       "      <td>NO ACTION</td>\n",
       "      <td>Reinspection</td>\n",
       "      <td>20  PROPER SANITIZATION, TEMPERATURE, CHEMICALS</td>\n",
       "    </tr>\n",
       "    <tr>\n",
       "      <td>968</td>\n",
       "      <td>AK</td>\n",
       "      <td>12/06/2006</td>\n",
       "      <td>88.0</td>\n",
       "      <td>NO ACTION</td>\n",
       "      <td>Reinspection</td>\n",
       "      <td>22  FOOD CONTACT SURFACES OF EQUIPMENT CLEAN</td>\n",
       "    </tr>\n",
       "    <tr>\n",
       "      <td>985</td>\n",
       "      <td>AK</td>\n",
       "      <td>10/28/2016</td>\n",
       "      <td>93.0</td>\n",
       "      <td>NO ACTION</td>\n",
       "      <td>Reinspection</td>\n",
       "      <td>WAREWASHING FACILITIES, INSTALLED,TEST STRIPS</td>\n",
       "    </tr>\n",
       "    <tr>\n",
       "      <td>...</td>\n",
       "      <td>...</td>\n",
       "      <td>...</td>\n",
       "      <td>...</td>\n",
       "      <td>...</td>\n",
       "      <td>...</td>\n",
       "      <td>...</td>\n",
       "    </tr>\n",
       "    <tr>\n",
       "      <td>42167</td>\n",
       "      <td>AK</td>\n",
       "      <td>05/14/2007</td>\n",
       "      <td>88.0</td>\n",
       "      <td>NO ACTION</td>\n",
       "      <td>Reinspection</td>\n",
       "      <td>03  FOOD TEMPERATURE MEETS REQUIREMENTS</td>\n",
       "    </tr>\n",
       "    <tr>\n",
       "      <td>42171</td>\n",
       "      <td>AK</td>\n",
       "      <td>08/17/2009</td>\n",
       "      <td>94.0</td>\n",
       "      <td>NO ACTION</td>\n",
       "      <td>Reinspection</td>\n",
       "      <td>25  SINGLE SERVICE ARTICLES STORED, USED PROPERLY</td>\n",
       "    </tr>\n",
       "    <tr>\n",
       "      <td>42770</td>\n",
       "      <td>AK</td>\n",
       "      <td>04/03/2008</td>\n",
       "      <td>95.0</td>\n",
       "      <td>NO ACTION</td>\n",
       "      <td>Reinspection</td>\n",
       "      <td>03  FOOD TEMPERATURE MEETS REQUIREMENTS</td>\n",
       "    </tr>\n",
       "    <tr>\n",
       "      <td>44357</td>\n",
       "      <td>AK</td>\n",
       "      <td>04/27/2018</td>\n",
       "      <td>98.0</td>\n",
       "      <td>NO ACTION</td>\n",
       "      <td>Reinspection</td>\n",
       "      <td>PHYSICAL FACILITIES INSTALLED, MAINTAINED, CLEAN</td>\n",
       "    </tr>\n",
       "    <tr>\n",
       "      <td>44360</td>\n",
       "      <td>AK</td>\n",
       "      <td>04/27/2018</td>\n",
       "      <td>98.0</td>\n",
       "      <td>NO ACTION</td>\n",
       "      <td>Reinspection</td>\n",
       "      <td>PLUMBING INSTALLED, PROPER BACKFLOW DEVICES</td>\n",
       "    </tr>\n",
       "  </tbody>\n",
       "</table>\n",
       "<p>176 rows × 6 columns</p>\n",
       "</div>"
      ],
      "text/plain": [
       "      business_state inspection_date  inspection_score inspection_description  \\\n",
       "145               AK      02/21/2007              86.0              NO ACTION   \n",
       "355               AK      03/23/2009              94.0              NO ACTION   \n",
       "918               AK      06/24/2009              88.0              NO ACTION   \n",
       "968               AK      12/06/2006              88.0              NO ACTION   \n",
       "985               AK      10/28/2016              93.0              NO ACTION   \n",
       "...              ...             ...               ...                    ...   \n",
       "42167             AK      05/14/2007              88.0              NO ACTION   \n",
       "42171             AK      08/17/2009              94.0              NO ACTION   \n",
       "42770             AK      04/03/2008              95.0              NO ACTION   \n",
       "44357             AK      04/27/2018              98.0              NO ACTION   \n",
       "44360             AK      04/27/2018              98.0              NO ACTION   \n",
       "\n",
       "      inspection_type                              violation_description  \n",
       "145      Reinspection   10  IN-USE FOOD AND ICE UTENSILS PROPERLY STORED  \n",
       "355      Reinspection   16  PROPER PROCEDURE/ MAINTENANCE OF DISHWASHING  \n",
       "918      Reinspection    20  PROPER SANITIZATION, TEMPERATURE, CHEMICALS  \n",
       "968      Reinspection       22  FOOD CONTACT SURFACES OF EQUIPMENT CLEAN  \n",
       "985      Reinspection      WAREWASHING FACILITIES, INSTALLED,TEST STRIPS  \n",
       "...               ...                                                ...  \n",
       "42167    Reinspection            03  FOOD TEMPERATURE MEETS REQUIREMENTS  \n",
       "42171    Reinspection  25  SINGLE SERVICE ARTICLES STORED, USED PROPERLY  \n",
       "42770    Reinspection            03  FOOD TEMPERATURE MEETS REQUIREMENTS  \n",
       "44357    Reinspection   PHYSICAL FACILITIES INSTALLED, MAINTAINED, CLEAN  \n",
       "44360    Reinspection        PLUMBING INSTALLED, PROPER BACKFLOW DEVICES  \n",
       "\n",
       "[176 rows x 6 columns]"
      ]
     },
     "execution_count": 31,
     "metadata": {},
     "output_type": "execute_result"
    }
   ],
   "source": [
    "inspection2[inspection2['inspection_description']=='NO ACTION']\n",
    "        "
   ]
  },
  {
   "cell_type": "code",
   "execution_count": 32,
   "metadata": {},
   "outputs": [
    {
     "data": {
      "text/plain": [
       "<matplotlib.axes._subplots.AxesSubplot at 0x208ec00bd88>"
      ]
     },
     "execution_count": 32,
     "metadata": {},
     "output_type": "execute_result"
    },
    {
     "data": {
      "image/png": "[encoded data removed]",
      "text/plain": [
       "<Figure size 576x432 with 1 Axes>"
      ]
     },
     "metadata": {
      "needs_background": "light"
     },
     "output_type": "display_data"
    }
   ],
   "source": [
    " \n",
    "inspection2.inspection_description.value_counts().plot(kind='barh', figsize=(8,6))"
   ]
  },
  {
   "cell_type": "code",
   "execution_count": 33,
   "metadata": {},
   "outputs": [
    {
     "data": {
      "text/plain": [
       "<matplotlib.axes._subplots.AxesSubplot at 0x208ec0b9948>"
      ]
     },
     "execution_count": 33,
     "metadata": {},
     "output_type": "execute_result"
    },
    {
     "data": {
      "image/png": "[encoded data removed]",
      "text/plain": [
       "<Figure size 1296x504 with 1 Axes>"
      ]
     },
     "metadata": {
      "needs_background": "light"
     },
     "output_type": "display_data"
    }
   ],
   "source": [
    "\n",
    "inspection2.inspection_description.value_counts().plot(figsize=(18,7))"
   ]
  },
  {
   "cell_type": "markdown",
   "metadata": {},
   "source": [
    "Monitoring reqiured"
   ]
  },
  {
   "cell_type": "code",
   "execution_count": 34,
   "metadata": {},
   "outputs": [],
   "source": [
    "inspection3=inspections[inspections['inspection_description']=='SCHEDULE REGULAR INSPECTION WITHIN 12 MONTHS']"
   ]
  },
  {
   "cell_type": "code",
   "execution_count": 35,
   "metadata": {
    "scrolled": false
   },
   "outputs": [
    {
     "data": {
      "text/html": [
       "<div>\n",
       "<style scoped>\n",
       "    .dataframe tbody tr th:only-of-type {\n",
       "        vertical-align: middle;\n",
       "    }\n",
       "\n",
       "    .dataframe tbody tr th {\n",
       "        vertical-align: top;\n",
       "    }\n",
       "\n",
       "    .dataframe thead th {\n",
       "        text-align: right;\n",
       "    }\n",
       "</style>\n",
       "<table border=\"1\" class=\"dataframe\">\n",
       "  <thead>\n",
       "    <tr style=\"text-align: right;\">\n",
       "      <th></th>\n",
       "      <th>business_state</th>\n",
       "      <th>inspection_date</th>\n",
       "      <th>inspection_score</th>\n",
       "      <th>inspection_description</th>\n",
       "      <th>inspection_type</th>\n",
       "      <th>violation_description</th>\n",
       "    </tr>\n",
       "  </thead>\n",
       "  <tbody>\n",
       "    <tr>\n",
       "      <td>0</td>\n",
       "      <td>AK</td>\n",
       "      <td>03/07/2017</td>\n",
       "      <td>94.0</td>\n",
       "      <td>SCHEDULE REGULAR INSPECTION WITHIN 12 MONTHS</td>\n",
       "      <td>Regular</td>\n",
       "      <td>HANDWASHING FACILITIES SUPPLIED, ACCESSIBLE</td>\n",
       "    </tr>\n",
       "    <tr>\n",
       "      <td>1</td>\n",
       "      <td>AK</td>\n",
       "      <td>10/21/2015</td>\n",
       "      <td>86.0</td>\n",
       "      <td>SCHEDULE REGULAR INSPECTION WITHIN 12 MONTHS</td>\n",
       "      <td>Regular</td>\n",
       "      <td>DEMONSTRATION OF KNOWLEDGE</td>\n",
       "    </tr>\n",
       "    <tr>\n",
       "      <td>10</td>\n",
       "      <td>AK</td>\n",
       "      <td>06/06/2017</td>\n",
       "      <td>94.0</td>\n",
       "      <td>SCHEDULE REGULAR INSPECTION WITHIN 12 MONTHS</td>\n",
       "      <td>Regular</td>\n",
       "      <td>DEMONSTRATION OF KNOWLEDGE</td>\n",
       "    </tr>\n",
       "    <tr>\n",
       "      <td>16</td>\n",
       "      <td>AK</td>\n",
       "      <td>05/28/2015</td>\n",
       "      <td>98.0</td>\n",
       "      <td>SCHEDULE REGULAR INSPECTION WITHIN 12 MONTHS</td>\n",
       "      <td>Regular</td>\n",
       "      <td>PLUMBING INSTALLED, PROPER BACKFLOW DEVICES</td>\n",
       "    </tr>\n",
       "    <tr>\n",
       "      <td>19</td>\n",
       "      <td>AK</td>\n",
       "      <td>04/27/2015</td>\n",
       "      <td>94.0</td>\n",
       "      <td>SCHEDULE REGULAR INSPECTION WITHIN 12 MONTHS</td>\n",
       "      <td>Regular</td>\n",
       "      <td>PROPER COLD HOLDING TEMPERATURES</td>\n",
       "    </tr>\n",
       "  </tbody>\n",
       "</table>\n",
       "</div>"
      ],
      "text/plain": [
       "   business_state inspection_date  inspection_score  \\\n",
       "0              AK      03/07/2017              94.0   \n",
       "1              AK      10/21/2015              86.0   \n",
       "10             AK      06/06/2017              94.0   \n",
       "16             AK      05/28/2015              98.0   \n",
       "19             AK      04/27/2015              94.0   \n",
       "\n",
       "                          inspection_description inspection_type  \\\n",
       "0   SCHEDULE REGULAR INSPECTION WITHIN 12 MONTHS         Regular   \n",
       "1   SCHEDULE REGULAR INSPECTION WITHIN 12 MONTHS         Regular   \n",
       "10  SCHEDULE REGULAR INSPECTION WITHIN 12 MONTHS         Regular   \n",
       "16  SCHEDULE REGULAR INSPECTION WITHIN 12 MONTHS         Regular   \n",
       "19  SCHEDULE REGULAR INSPECTION WITHIN 12 MONTHS         Regular   \n",
       "\n",
       "                          violation_description  \n",
       "0   HANDWASHING FACILITIES SUPPLIED, ACCESSIBLE  \n",
       "1                    DEMONSTRATION OF KNOWLEDGE  \n",
       "10                   DEMONSTRATION OF KNOWLEDGE  \n",
       "16  PLUMBING INSTALLED, PROPER BACKFLOW DEVICES  \n",
       "19             PROPER COLD HOLDING TEMPERATURES  "
      ]
     },
     "execution_count": 35,
     "metadata": {},
     "output_type": "execute_result"
    }
   ],
   "source": [
    "inspection3.head()"
   ]
  },
  {
   "cell_type": "code",
   "execution_count": 36,
   "metadata": {},
   "outputs": [
    {
     "data": {
      "text/html": [
       "<div>\n",
       "<style scoped>\n",
       "    .dataframe tbody tr th:only-of-type {\n",
       "        vertical-align: middle;\n",
       "    }\n",
       "\n",
       "    .dataframe tbody tr th {\n",
       "        vertical-align: top;\n",
       "    }\n",
       "\n",
       "    .dataframe thead th {\n",
       "        text-align: right;\n",
       "    }\n",
       "</style>\n",
       "<table border=\"1\" class=\"dataframe\">\n",
       "  <thead>\n",
       "    <tr style=\"text-align: right;\">\n",
       "      <th></th>\n",
       "      <th>inspection_score</th>\n",
       "    </tr>\n",
       "  </thead>\n",
       "  <tbody>\n",
       "    <tr>\n",
       "      <td>count</td>\n",
       "      <td>6696.000000</td>\n",
       "    </tr>\n",
       "    <tr>\n",
       "      <td>mean</td>\n",
       "      <td>93.107228</td>\n",
       "    </tr>\n",
       "    <tr>\n",
       "      <td>std</td>\n",
       "      <td>4.024737</td>\n",
       "    </tr>\n",
       "    <tr>\n",
       "      <td>min</td>\n",
       "      <td>79.000000</td>\n",
       "    </tr>\n",
       "    <tr>\n",
       "      <td>25%</td>\n",
       "      <td>91.000000</td>\n",
       "    </tr>\n",
       "    <tr>\n",
       "      <td>50%</td>\n",
       "      <td>94.000000</td>\n",
       "    </tr>\n",
       "    <tr>\n",
       "      <td>75%</td>\n",
       "      <td>96.000000</td>\n",
       "    </tr>\n",
       "    <tr>\n",
       "      <td>max</td>\n",
       "      <td>100.000000</td>\n",
       "    </tr>\n",
       "  </tbody>\n",
       "</table>\n",
       "</div>"
      ],
      "text/plain": [
       "       inspection_score\n",
       "count       6696.000000\n",
       "mean          93.107228\n",
       "std            4.024737\n",
       "min           79.000000\n",
       "25%           91.000000\n",
       "50%           94.000000\n",
       "75%           96.000000\n",
       "max          100.000000"
      ]
     },
     "execution_count": 36,
     "metadata": {},
     "output_type": "execute_result"
    }
   ],
   "source": [
    "inspection3.describe()"
   ]
  },
  {
   "cell_type": "code",
   "execution_count": 37,
   "metadata": {},
   "outputs": [
    {
     "data": {
      "text/plain": [
       "FOOD CONTACT SURFACES CLEAN AND SANITIZED                                                            0.105287\n",
       "FOOD PROTECTED FROM CONTAMINATION                                                                    0.080795\n",
       "NONFOOD-CONTACT SURFACES CLEAN                                                                       0.077808\n",
       "DEMONSTRATION OF KNOWLEDGE                                                                           0.072431\n",
       "PROPER COLD HOLDING TEMPERATURES                                                                     0.071685\n",
       "HANDWASHING FACILITIES SUPPLIED, ACCESSIBLE                                                          0.069146\n",
       "PHYSICAL FACILITIES INSTALLED, MAINTAINED, CLEAN                                                     0.057945\n",
       "PROPER DATE MARKING AND DISPOSITION                                                                  0.056452\n",
       "SURFACES CLEANABLE, DESIGN, CONSTRUCTED, USED                                                        0.051822\n",
       "WIPING CLOTHS PROPERLY USED AND STORED                                                               0.036141\n",
       "IN USE UTENSILS PROPERLY STORED                                                                      0.025090\n",
       "ADEQUATE VENTILATION, LIGHTING, DESIGNATED AREAS                                                     0.024791\n",
       "THERMOMETERS PROVIDED AND ACCURATE                                                                   0.022252\n",
       "WAREWASHING FACILITIES, INSTALLED,TEST STRIPS                                                        0.020908\n",
       "INSECTS, RODENTS, ANIMALS NOT PRESENT                                                                0.017772\n",
       "PLUMBING INSTALLED, PROPER BACKFLOW DEVICES                                                          0.015382\n",
       "TIME AS A CONTROL PROCEDURES AND RECORDS                                                             0.014785\n",
       "PROPER HOT HOLDING TEMPERATURES                                                                      0.014636\n",
       "SINGLE-SERVICE ITEMS PROPERLY STORED, USED                                                           0.013142\n",
       "TOXIC SUBSTANCES PROPERLY IDENTIFIED, STORED, USED                                                   0.012843\n",
       "FOOD PROPERLY LABELED, ORIGINAL CONTAINER                                                            0.012843\n",
       "EATING, DRINKING, TOBACCO USE                                                                        0.011499\n",
       "WATER AND ICE FROM APPROVED SOURCE                                                                   0.011201\n",
       "HANDS CLEAN AND PROPERLY WASHED                                                                      0.011201\n",
       "TOILET FACILITIES CONSTRUCTED, SUPPLIED, CLEANED                                                     0.011051\n",
       "APPROVED THAWING METHODS USED                                                                        0.010902\n",
       "BARE HAND CONTACT WITH READY TO EAT FOOD                                                             0.010305\n",
       "PROPER COOLING METHODS, ADEQUATE EQUIPMENT                                                           0.008961\n",
       "PROPER COOLING TIME AND TEMPERATURES                                                                 0.007766\n",
       "UNTENSILS, EQUIPMENT, LINENS, STORAGE AND USE                                                        0.006870\n",
       "CONSUMER ADVISORY FOR RAW OR UNDERCOOKED FOODS                                                       0.005824\n",
       "HOT AND COLD WATER AVAILABLE, ADEQUATE PRESSURE                                                      0.005376\n",
       "EMPLOYEE HEALTH POLICY                                                                               0.005376\n",
       "COMPLIANCE WITH VARIANCE, HACCP PLAN                                                                 0.002987\n",
       "PROPER REHEATING FOR HOT HOLDING                                                                     0.002838\n",
       "PERSONAL CLEANLINESS                                                                                 0.002091\n",
       "SEWAGE AND WASTE WATER PROPERLY DISPOSED                                                             0.001792\n",
       "GLOVES USED PROPERLY                                                                                 0.001643\n",
       "FOOD FROM AN APPROVED SOURCE                                                                         0.001344\n",
       "GARBAGE/REFUSE PROPERLY DISPOSED                                                                     0.001195\n",
       "FOOD IN GOOD CONDITION, SAFE, UNADULTERATED                                                          0.001195\n",
       "RECORDS, SHELLSTOCK TAGS, PARASITE DESTRUCTION                                                       0.001195\n",
       "WASHING FRUITS AND VEGETABLES                                                                        0.000896\n",
       "ORDERLY, CLEAN, SAFE                                                                                 0.000597\n",
       "09  Pool water chemistry within limits                                                               0.000299\n",
       "TB CLEARANCES                                                                                        0.000299\n",
       "01  Circulation rate/turnover                                                                        0.000299\n",
       "REGISTRATION SYSTEM: NAME,SEX, DATE OF BIRTH, NEXT OF KIN, HEALTH INFO, ADMISSION/DISCHARGE DATES    0.000149\n",
       "UTENSILS & EQUIPMENT CLEANING FACILITES PROVIDED; NON-TOXIC; CLEAN                                   0.000149\n",
       "FOOD HANDLING, STORAGE, SERVICE PREVENT CONTAMINATION; AREAS CLEAN AND GOOD REPAIR; VENTALIAITON     0.000149\n",
       "HIGHLY SUSCEPTIBLE POPULATIONS, PROHIBITED FOODS                                                     0.000149\n",
       "DISCHARGE FROM EYES, NOSE, MOUTH                                                                     0.000149\n",
       "SPACE RATIOS MAINTAINED                                                                              0.000149\n",
       "FOOD RECEIVED AT PROPER TEMPERATURE                                                                  0.000149\n",
       "Name: violation_description, dtype: float64"
      ]
     },
     "execution_count": 37,
     "metadata": {},
     "output_type": "execute_result"
    }
   ],
   "source": [
    "inspection3.violation_description.value_counts(normalize=True)"
   ]
  },
  {
   "cell_type": "markdown",
   "metadata": {},
   "source": [
    "Immediate Action"
   ]
  },
  {
   "cell_type": "code",
   "execution_count": 38,
   "metadata": {},
   "outputs": [],
   "source": [
    "inspection4=inspections[inspections['inspection_description']=='ENFORCEMENT INSPECTION REQUIRED']"
   ]
  },
  {
   "cell_type": "code",
   "execution_count": 39,
   "metadata": {
    "scrolled": false
   },
   "outputs": [
    {
     "data": {
      "text/html": [
       "<div>\n",
       "<style scoped>\n",
       "    .dataframe tbody tr th:only-of-type {\n",
       "        vertical-align: middle;\n",
       "    }\n",
       "\n",
       "    .dataframe tbody tr th {\n",
       "        vertical-align: top;\n",
       "    }\n",
       "\n",
       "    .dataframe thead th {\n",
       "        text-align: right;\n",
       "    }\n",
       "</style>\n",
       "<table border=\"1\" class=\"dataframe\">\n",
       "  <thead>\n",
       "    <tr style=\"text-align: right;\">\n",
       "      <th></th>\n",
       "      <th>business_state</th>\n",
       "      <th>inspection_date</th>\n",
       "      <th>inspection_score</th>\n",
       "      <th>inspection_description</th>\n",
       "      <th>inspection_type</th>\n",
       "      <th>violation_description</th>\n",
       "    </tr>\n",
       "  </thead>\n",
       "  <tbody>\n",
       "    <tr>\n",
       "      <td>2</td>\n",
       "      <td>AK</td>\n",
       "      <td>11/22/2016</td>\n",
       "      <td>80.0</td>\n",
       "      <td>ENFORCEMENT INSPECTION REQUIRED</td>\n",
       "      <td>Regular</td>\n",
       "      <td>THERMOMETERS PROVIDED AND ACCURATE</td>\n",
       "    </tr>\n",
       "    <tr>\n",
       "      <td>4</td>\n",
       "      <td>AK</td>\n",
       "      <td>07/13/2017</td>\n",
       "      <td>83.0</td>\n",
       "      <td>ENFORCEMENT INSPECTION REQUIRED</td>\n",
       "      <td>Regular</td>\n",
       "      <td>BARE HAND CONTACT WITH READY TO EAT FOOD</td>\n",
       "    </tr>\n",
       "    <tr>\n",
       "      <td>69</td>\n",
       "      <td>AK</td>\n",
       "      <td>04/21/2009</td>\n",
       "      <td>83.0</td>\n",
       "      <td>ENFORCEMENT INSPECTION REQUIRED</td>\n",
       "      <td>Enforcement</td>\n",
       "      <td>08  FOOD PROTECTED FROM CROSS CONTAMINATION</td>\n",
       "    </tr>\n",
       "    <tr>\n",
       "      <td>134</td>\n",
       "      <td>AK</td>\n",
       "      <td>12/22/2016</td>\n",
       "      <td>87.0</td>\n",
       "      <td>ENFORCEMENT INSPECTION REQUIRED</td>\n",
       "      <td>Regular</td>\n",
       "      <td>EMPLOYEE HEALTH POLICY</td>\n",
       "    </tr>\n",
       "    <tr>\n",
       "      <td>188</td>\n",
       "      <td>AK</td>\n",
       "      <td>08/18/2015</td>\n",
       "      <td>81.0</td>\n",
       "      <td>ENFORCEMENT INSPECTION REQUIRED</td>\n",
       "      <td>Regular</td>\n",
       "      <td>SURFACES CLEANABLE, DESIGN, CONSTRUCTED, USED</td>\n",
       "    </tr>\n",
       "    <tr>\n",
       "      <td>284</td>\n",
       "      <td>AK</td>\n",
       "      <td>07/23/2015</td>\n",
       "      <td>79.0</td>\n",
       "      <td>ENFORCEMENT INSPECTION REQUIRED</td>\n",
       "      <td>Regular</td>\n",
       "      <td>ADEQUATE VENTILATION, LIGHTING, DESIGNATED AREAS</td>\n",
       "    </tr>\n",
       "    <tr>\n",
       "      <td>332</td>\n",
       "      <td>AK</td>\n",
       "      <td>06/22/2015</td>\n",
       "      <td>85.0</td>\n",
       "      <td>ENFORCEMENT INSPECTION REQUIRED</td>\n",
       "      <td>Regular</td>\n",
       "      <td>ADEQUATE VENTILATION, LIGHTING, DESIGNATED AREAS</td>\n",
       "    </tr>\n",
       "    <tr>\n",
       "      <td>339</td>\n",
       "      <td>AK</td>\n",
       "      <td>10/11/2017</td>\n",
       "      <td>71.0</td>\n",
       "      <td>ENFORCEMENT INSPECTION REQUIRED</td>\n",
       "      <td>Regular</td>\n",
       "      <td>TOXIC SUBSTANCES PROPERLY IDENTIFIED, STORED, ...</td>\n",
       "    </tr>\n",
       "    <tr>\n",
       "      <td>340</td>\n",
       "      <td>AK</td>\n",
       "      <td>06/06/2008</td>\n",
       "      <td>84.0</td>\n",
       "      <td>ENFORCEMENT INSPECTION REQUIRED</td>\n",
       "      <td>Regular</td>\n",
       "      <td>12  HANDS CLEAN, GOOD HYGIENE, CERTIFICATION</td>\n",
       "    </tr>\n",
       "    <tr>\n",
       "      <td>426</td>\n",
       "      <td>AK</td>\n",
       "      <td>03/17/2017</td>\n",
       "      <td>86.0</td>\n",
       "      <td>ENFORCEMENT INSPECTION REQUIRED</td>\n",
       "      <td>Regular</td>\n",
       "      <td>FOOD CONTACT SURFACES CLEAN AND SANITIZED</td>\n",
       "    </tr>\n",
       "  </tbody>\n",
       "</table>\n",
       "</div>"
      ],
      "text/plain": [
       "    business_state inspection_date  inspection_score  \\\n",
       "2               AK      11/22/2016              80.0   \n",
       "4               AK      07/13/2017              83.0   \n",
       "69              AK      04/21/2009              83.0   \n",
       "134             AK      12/22/2016              87.0   \n",
       "188             AK      08/18/2015              81.0   \n",
       "284             AK      07/23/2015              79.0   \n",
       "332             AK      06/22/2015              85.0   \n",
       "339             AK      10/11/2017              71.0   \n",
       "340             AK      06/06/2008              84.0   \n",
       "426             AK      03/17/2017              86.0   \n",
       "\n",
       "              inspection_description inspection_type  \\\n",
       "2    ENFORCEMENT INSPECTION REQUIRED         Regular   \n",
       "4    ENFORCEMENT INSPECTION REQUIRED         Regular   \n",
       "69   ENFORCEMENT INSPECTION REQUIRED     Enforcement   \n",
       "134  ENFORCEMENT INSPECTION REQUIRED         Regular   \n",
       "188  ENFORCEMENT INSPECTION REQUIRED         Regular   \n",
       "284  ENFORCEMENT INSPECTION REQUIRED         Regular   \n",
       "332  ENFORCEMENT INSPECTION REQUIRED         Regular   \n",
       "339  ENFORCEMENT INSPECTION REQUIRED         Regular   \n",
       "340  ENFORCEMENT INSPECTION REQUIRED         Regular   \n",
       "426  ENFORCEMENT INSPECTION REQUIRED         Regular   \n",
       "\n",
       "                                 violation_description  \n",
       "2                   THERMOMETERS PROVIDED AND ACCURATE  \n",
       "4             BARE HAND CONTACT WITH READY TO EAT FOOD  \n",
       "69         08  FOOD PROTECTED FROM CROSS CONTAMINATION  \n",
       "134                             EMPLOYEE HEALTH POLICY  \n",
       "188      SURFACES CLEANABLE, DESIGN, CONSTRUCTED, USED  \n",
       "284   ADEQUATE VENTILATION, LIGHTING, DESIGNATED AREAS  \n",
       "332   ADEQUATE VENTILATION, LIGHTING, DESIGNATED AREAS  \n",
       "339  TOXIC SUBSTANCES PROPERLY IDENTIFIED, STORED, ...  \n",
       "340       12  HANDS CLEAN, GOOD HYGIENE, CERTIFICATION  \n",
       "426          FOOD CONTACT SURFACES CLEAN AND SANITIZED  "
      ]
     },
     "execution_count": 39,
     "metadata": {},
     "output_type": "execute_result"
    }
   ],
   "source": [
    "inspection4.head(10)"
   ]
  },
  {
   "cell_type": "markdown",
   "metadata": {},
   "source": [
    " what percentage of regular inspection has been led to enforcement"
   ]
  },
  {
   "cell_type": "code",
   "execution_count": 40,
   "metadata": {},
   "outputs": [
    {
     "data": {
      "text/plain": [
       "Regular         0.844411\n",
       "Reinspection    0.122356\n",
       "Enforcement     0.033233\n",
       "Name: inspection_type, dtype: float64"
      ]
     },
     "execution_count": 40,
     "metadata": {},
     "output_type": "execute_result"
    }
   ],
   "source": [
    " \n",
    "inspection4.inspection_type.value_counts(normalize=True)"
   ]
  },
  {
   "cell_type": "code",
   "execution_count": 41,
   "metadata": {},
   "outputs": [
    {
     "data": {
      "text/html": [
       "<div>\n",
       "<style scoped>\n",
       "    .dataframe tbody tr th:only-of-type {\n",
       "        vertical-align: middle;\n",
       "    }\n",
       "\n",
       "    .dataframe tbody tr th {\n",
       "        vertical-align: top;\n",
       "    }\n",
       "\n",
       "    .dataframe thead th {\n",
       "        text-align: right;\n",
       "    }\n",
       "</style>\n",
       "<table border=\"1\" class=\"dataframe\">\n",
       "  <thead>\n",
       "    <tr style=\"text-align: right;\">\n",
       "      <th></th>\n",
       "      <th>inspection_score</th>\n",
       "    </tr>\n",
       "  </thead>\n",
       "  <tbody>\n",
       "    <tr>\n",
       "      <td>count</td>\n",
       "      <td>662.000000</td>\n",
       "    </tr>\n",
       "    <tr>\n",
       "      <td>mean</td>\n",
       "      <td>82.395770</td>\n",
       "    </tr>\n",
       "    <tr>\n",
       "      <td>std</td>\n",
       "      <td>5.832289</td>\n",
       "    </tr>\n",
       "    <tr>\n",
       "      <td>min</td>\n",
       "      <td>66.000000</td>\n",
       "    </tr>\n",
       "    <tr>\n",
       "      <td>25%</td>\n",
       "      <td>79.000000</td>\n",
       "    </tr>\n",
       "    <tr>\n",
       "      <td>50%</td>\n",
       "      <td>83.000000</td>\n",
       "    </tr>\n",
       "    <tr>\n",
       "      <td>75%</td>\n",
       "      <td>86.000000</td>\n",
       "    </tr>\n",
       "    <tr>\n",
       "      <td>max</td>\n",
       "      <td>100.000000</td>\n",
       "    </tr>\n",
       "  </tbody>\n",
       "</table>\n",
       "</div>"
      ],
      "text/plain": [
       "       inspection_score\n",
       "count        662.000000\n",
       "mean          82.395770\n",
       "std            5.832289\n",
       "min           66.000000\n",
       "25%           79.000000\n",
       "50%           83.000000\n",
       "75%           86.000000\n",
       "max          100.000000"
      ]
     },
     "execution_count": 41,
     "metadata": {},
     "output_type": "execute_result"
    }
   ],
   "source": [
    "inspection4.describe()"
   ]
  },
  {
   "cell_type": "code",
   "execution_count": 42,
   "metadata": {},
   "outputs": [
    {
     "data": {
      "text/plain": [
       "FOOD PROTECTED FROM CONTAMINATION                     0.067976\n",
       "PROPER DATE MARKING AND DISPOSITION                   0.063444\n",
       "DEMONSTRATION OF KNOWLEDGE                            0.061934\n",
       "FOOD CONTACT SURFACES CLEAN AND SANITIZED             0.057402\n",
       "PROPER COLD HOLDING TEMPERATURES                      0.057402\n",
       "                                                        ...   \n",
       "42  PREMISES MAINTAINED, FREE OF UNNECESSARY ITEMS    0.001511\n",
       "21  WIPING CLOTHS CLEAN, USE RESTRICTED               0.001511\n",
       "25  SINGLE SERVICE ARTICLES STORED, USED PROPERLY     0.001511\n",
       "24  STORAGE, HANDLING OF CLEAN EQUIPMENT/UTENSILS     0.001511\n",
       "09  HANDLING OF FOOD AND ICE MINIMIZED                0.001511\n",
       "Name: violation_description, Length: 72, dtype: float64"
      ]
     },
     "execution_count": 42,
     "metadata": {},
     "output_type": "execute_result"
    }
   ],
   "source": [
    "inspection4.violation_description.value_counts(normalize=True)"
   ]
  },
  {
   "cell_type": "code",
   "execution_count": 43,
   "metadata": {},
   "outputs": [
    {
     "data": {
      "text/plain": [
       "DEMONSTRATION OF KNOWLEDGE                        0.069606\n",
       "FOOD PROTECTED FROM CONTAMINATION                 0.069606\n",
       "PROPER DATE MARKING AND DISPOSITION               0.062645\n",
       "PROPER COLD HOLDING TEMPERATURES                  0.060325\n",
       "FOOD CONTACT SURFACES CLEAN AND SANITIZED         0.060325\n",
       "                                                    ...   \n",
       "GARBAGE/REFUSE PROPERLY DISPOSED                  0.002320\n",
       "04  EQUIPMENT TO MAINTAIN FOOD TEMPERATURE        0.002320\n",
       "WASHING FRUITS AND VEGETABLES                     0.002320\n",
       "37   WALLS & CEILINGS CLEAN AND IN GOOD REPAIR    0.002320\n",
       "RECORDS, SHELLSTOCK TAGS, PARASITE DESTRUCTION    0.002320\n",
       "Name: violation_description, Length: 65, dtype: float64"
      ]
     },
     "execution_count": 43,
     "metadata": {},
     "output_type": "execute_result"
    }
   ],
   "source": [
    "inspection4[inspection4['inspection_score']>=82].violation_description.value_counts(normalize=True)"
   ]
  }
 ],
 "metadata": {
  "kernelspec": {
   "display_name": "Python 3",
   "language": "python",
   "name": "python3"
  },
  "language_info": {
   "codemirror_mode": {
    "name": "ipython",
    "version": 3
   },
   "file_extension": ".py",
   "mimetype": "text/x-python",
   "name": "python",
   "nbconvert_exporter": "python",
   "pygments_lexer": "ipython3",
   "version": "3.7.4"
  }
 },
 "nbformat": 4,
 "nbformat_minor": 2
}
